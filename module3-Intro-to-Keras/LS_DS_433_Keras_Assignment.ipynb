{
 "cells": [
  {
   "cell_type": "markdown",
   "metadata": {
    "colab_type": "text",
    "id": "pBQsZEJmubLs"
   },
   "source": [
    "## Use the Keras Library to build a Multi-Layer Perceptron Model on the Boston Housing dataset\n",
    "\n",
    "- The Boston Housing dataset comes with the Keras library so use Keras to import it into your notebook. \n",
    "- Normalize the data (all features should have roughly the same scale)\n",
    "- Import the type of model and layers that you will need from Keras.\n",
    "- Instantiate a model object and use `model.add()` to add layers to your model\n",
    "- Since this is a regression model you will have a single output node in the final layer.\n",
    "- Use activation functions that are appropriate for this task\n",
    "- Compile your model\n",
    "- Fit your model and report its accuracy in terms of Mean Squared Error\n",
    "- Use the history object that is returned from model.fit to make graphs of the model's loss or train/validation accuracies by epoch. \n",
    "- Run this same data through a linear regression model. Which achieves higher accuracy?\n",
    "- Do a little bit of feature engineering and see how that affects your neural network model. (you will need to change your model to accept more inputs)\n",
    "- After feature engineering, which model sees a greater accuracy boost due to the new features?"
   ]
  },
  {
   "cell_type": "code",
   "execution_count": 27,
   "metadata": {
    "colab": {},
    "colab_type": "code",
    "id": "8NLTAR87uYJ-"
   },
   "outputs": [],
   "source": [
    "# Following Jason Browlee's tutorial on Keras Regression\n",
    "\n",
    "import numpy as np\n",
    "import pandas as pd\n",
    "from keras.models import Sequential\n",
    "from keras.layers import Dense\n",
    "from keras.wrappers.scikit_learn import KerasRegressor\n",
    "from sklearn.model_selection import cross_val_score\n",
    "from sklearn.model_selection import KFold\n",
    "from sklearn.preprocessing import StandardScaler\n",
    "\n",
    "from sklearn.pipeline import Pipeline"
   ]
  },
  {
   "cell_type": "code",
   "execution_count": 28,
   "metadata": {},
   "outputs": [],
   "source": [
    "# load datset\n",
    "df = pd.read_csv('housing.csv', delim_whitespace=True, header=None)\n",
    "dataset = df.values\n",
    "# split into input(X) and output(Y) variables\n",
    "X = dataset[:, 0:13]\n",
    "Y = dataset[:, 13]\n"
   ]
  },
  {
   "cell_type": "code",
   "execution_count": 29,
   "metadata": {},
   "outputs": [
    {
     "data": {
      "text/plain": [
       "'\\nfrom keras.datasets import boston_housing\\n\\n(X_train, y_train), (X_test, y_test) = boston_housing.load_data()\\n'"
      ]
     },
     "execution_count": 29,
     "metadata": {},
     "output_type": "execute_result"
    }
   ],
   "source": [
    "\"\"\"\n",
    "from keras.datasets import boston_housing\n",
    "\n",
    "(X_train, y_train), (X_test, y_test) = boston_housing.load_data()\n",
    "\"\"\""
   ]
  },
  {
   "cell_type": "code",
   "execution_count": 30,
   "metadata": {},
   "outputs": [
    {
     "name": "stdout",
     "output_type": "stream",
     "text": [
      "(404, 13)\n",
      "(102, 13)\n"
     ]
    }
   ],
   "source": [
    "print(X_train.shape)\n",
    "print(X_test.shape)"
   ]
  },
  {
   "cell_type": "code",
   "execution_count": 31,
   "metadata": {},
   "outputs": [],
   "source": [
    "def baseline_model():\n",
    "    # create model\n",
    "    model = Sequential()\n",
    "    model.add(Dense(13, input_dim=13, kernel_initializer='normal', activation='relu'))\n",
    "    model.add(Dense(1, kernel_initializer='normal'))\n",
    "    # Compile model\n",
    "    model.compile(loss='mean_squared_error', optimizer='adam')\n",
    "    return model"
   ]
  },
  {
   "cell_type": "code",
   "execution_count": 35,
   "metadata": {},
   "outputs": [],
   "source": [
    "# We can use a scikit learn workflow with Keras by using a Keras wrapper object that comes with scikit-learn\n",
    "\n",
    "# fix random seed for reproducibility\n",
    "seed = 7\n",
    "np.random.seed(seed)\n",
    "#evaluate model with standardized dataset\n",
    "estimator = KerasRegressor(build_fn=baseline_model, epochs=100, batch_size=5, verbose=0)"
   ]
  },
  {
   "cell_type": "code",
   "execution_count": 36,
   "metadata": {},
   "outputs": [
    {
     "name": "stdout",
     "output_type": "stream",
     "text": [
      "Baseline model:\n",
      "\n",
      "Mean of MSE: -32.52 Standard Deviation of : 23.28\n"
     ]
    }
   ],
   "source": [
    "# the final step is to evaluate the baseline model with 10-fold cross validation\n",
    "kfold = KFold(n_splits=10, random_state=seed)\n",
    "results = cross_val_score(estimator, X, Y, cv=kfold)\n",
    "print(\"Baseline model:\\n\")\n",
    "print(\"Mean of MSE: {:.2f} Standard Deviation of : {:.2f}\".format(results.mean(), results.std()))"
   ]
  },
  {
   "cell_type": "code",
   "execution_count": 40,
   "metadata": {},
   "outputs": [
    {
     "name": "stdout",
     "output_type": "stream",
     "text": [
      "Mean of MSE: -29.67 Standard Deviation of : 27.91\n"
     ]
    }
   ],
   "source": [
    "# Let's standardize the data with mean zero and standard deviation 1\n",
    "\n",
    "np.random.seed(seed)\n",
    "estimators = []\n",
    "estimators.append(('standardize', StandardScaler()))\n",
    "estimators.append(('mlp', KerasRegressor(build_fn=baseline_model, epochs=50, batch_size=5, verbose=0)))\n",
    "pipeline = Pipeline(estimators)\n",
    "kfold = KFold(n_splits=10, random_state=seed)\n",
    "results = cross_val_score(pipeline, X, Y, cv=kfold)\n",
    "print(\"Mean of MSE: {:.2f} Standard Deviation of : {:.2f}\".format(results.mean(), results.std()))"
   ]
  },
  {
   "cell_type": "markdown",
   "metadata": {
    "colab_type": "text",
    "id": "SfcFnOONyuNm"
   },
   "source": [
    "## Use the Keras Library to build an image recognition network using the Fashion-MNIST dataset (also comes with keras)\n",
    "\n",
    "- Load and preprocess the image data similar to how we preprocessed the MNIST data in class.\n",
    "- Make sure to one-hot encode your category labels\n",
    "- Make sure to have your final layer have as many nodes as the number of classes that you want to predict.\n",
    "- Try different hyperparameters. What is the highest accuracy that you are able to achieve.\n",
    "- Use the history object that is returned from model.fit to make graphs of the model's loss or train/validation accuracies by epoch. \n",
    "- Remember that neural networks fall prey to randomness so you may need to run your model multiple times (or use Cross Validation) in order to tell if a change to a hyperparameter is truly producing better results."
   ]
  },
  {
   "cell_type": "code",
   "execution_count": 50,
   "metadata": {
    "colab": {},
    "colab_type": "code",
    "id": "szi6-IpuzaH1"
   },
   "outputs": [
    {
     "name": "stdout",
     "output_type": "stream",
     "text": [
      "60000 train samples\n",
      "10000 test samples\n"
     ]
    }
   ],
   "source": [
    "##### Your Code Here #####\n",
    "import keras\n",
    "from keras.datasets import fashion_mnist\n",
    "from keras.layers import Dense, Dropout\n",
    "from keras.models import Sequential\n",
    "\n",
    "batch_size= 128\n",
    "num_classes = 10\n",
    "epochs = 20\n",
    "\n",
    "(X_train, y_train), (X_test, y_test) = fashion_mnist.load_data()\n",
    "\n",
    "# Flatten the images\n",
    "X_train = X_train.reshape(60000, 784)\n",
    "X_test = X_test.reshape(10000, 784)\n",
    "\n",
    "X_train = X_train.astype('float32')\n",
    "X_test = X_test.astype('float32')\n",
    "\n",
    "y_train = keras.utils.to_categorical(y_train, num_classes)\n",
    "y_test = keras.utils.to_categorical(y_test, num_classes)\n",
    "\n",
    "X_train /= 255\n",
    "X_test /= 255\n",
    "\n",
    "print(X_train.shape[0], 'train samples')\n",
    "print(X_test.shape[0], 'test samples')\n"
   ]
  },
  {
   "cell_type": "code",
   "execution_count": 51,
   "metadata": {},
   "outputs": [
    {
     "name": "stdout",
     "output_type": "stream",
     "text": [
      "_________________________________________________________________\n",
      "Layer (type)                 Output Shape              Param #   \n",
      "=================================================================\n",
      "dense_103 (Dense)            (None, 16)                12560     \n",
      "_________________________________________________________________\n",
      "dropout_5 (Dropout)          (None, 16)                0         \n",
      "_________________________________________________________________\n",
      "dense_104 (Dense)            (None, 16)                272       \n",
      "_________________________________________________________________\n",
      "dropout_6 (Dropout)          (None, 16)                0         \n",
      "_________________________________________________________________\n",
      "dense_105 (Dense)            (None, 10)                170       \n",
      "=================================================================\n",
      "Total params: 13,002\n",
      "Trainable params: 13,002\n",
      "Non-trainable params: 0\n",
      "_________________________________________________________________\n"
     ]
    }
   ],
   "source": [
    "model = Sequential()\n",
    "model.add(Dense(16, activation='relu', input_shape=(784,)))\n",
    "model.add(Dropout(0.2)) ## Added dropout\n",
    "model.add(Dense(16, activation='relu'))\n",
    "model.add(Dropout(0.2))\n",
    "model.add(Dense(num_classes, activation='softmax'))\n",
    "model.compile(loss='categorical_crossentropy', optimizer='adam', metrics=['accuracy'])\n",
    "model.summary()"
   ]
  },
  {
   "cell_type": "code",
   "execution_count": 52,
   "metadata": {},
   "outputs": [
    {
     "name": "stdout",
     "output_type": "stream",
     "text": [
      "Train on 54000 samples, validate on 6000 samples\n",
      "Epoch 1/20\n",
      "54000/54000 [==============================] - 8s 143us/step - loss: 1.0080 - acc: 0.6210 - val_loss: 0.5540 - val_acc: 0.7978\n",
      "Epoch 2/20\n",
      "54000/54000 [==============================] - 5s 102us/step - loss: 0.7450 - acc: 0.7147 - val_loss: 0.5212 - val_acc: 0.8062\n",
      "Epoch 3/20\n",
      "54000/54000 [==============================] - 6s 114us/step - loss: 0.6816 - acc: 0.7456 - val_loss: 0.4906 - val_acc: 0.8188\n",
      "Epoch 4/20\n",
      "54000/54000 [==============================] - 6s 103us/step - loss: 0.6509 - acc: 0.7564 - val_loss: 0.5193 - val_acc: 0.8203\n",
      "Epoch 5/20\n",
      "54000/54000 [==============================] - 6s 104us/step - loss: 0.6394 - acc: 0.7599 - val_loss: 0.4647 - val_acc: 0.8398\n",
      "Epoch 6/20\n",
      "54000/54000 [==============================] - 6s 105us/step - loss: 0.6258 - acc: 0.7685 - val_loss: 0.4628 - val_acc: 0.8353\n",
      "Epoch 7/20\n",
      "54000/54000 [==============================] - 6s 103us/step - loss: 0.6132 - acc: 0.7733 - val_loss: 0.4577 - val_acc: 0.8397\n",
      "Epoch 8/20\n",
      "54000/54000 [==============================] - 6s 103us/step - loss: 0.6051 - acc: 0.7751 - val_loss: 0.4554 - val_acc: 0.8398\n",
      "Epoch 9/20\n",
      "54000/54000 [==============================] - 6s 103us/step - loss: 0.6003 - acc: 0.7755 - val_loss: 0.4537 - val_acc: 0.8392\n",
      "Epoch 10/20\n",
      "54000/54000 [==============================] - 6s 103us/step - loss: 0.5929 - acc: 0.7782 - val_loss: 0.4415 - val_acc: 0.8443\n",
      "Epoch 11/20\n",
      "54000/54000 [==============================] - 6s 103us/step - loss: 0.5832 - acc: 0.7806 - val_loss: 0.4525 - val_acc: 0.8418\n",
      "Epoch 12/20\n",
      "54000/54000 [==============================] - 6s 103us/step - loss: 0.5811 - acc: 0.7824 - val_loss: 0.4519 - val_acc: 0.8422\n",
      "Epoch 13/20\n",
      "54000/54000 [==============================] - 6s 103us/step - loss: 0.5775 - acc: 0.7864 - val_loss: 0.4685 - val_acc: 0.8350\n",
      "Epoch 14/20\n",
      "54000/54000 [==============================] - 6s 103us/step - loss: 0.5730 - acc: 0.7858 - val_loss: 0.4372 - val_acc: 0.8452\n",
      "Epoch 15/20\n",
      "54000/54000 [==============================] - 6s 103us/step - loss: 0.5734 - acc: 0.7839 - val_loss: 0.4438 - val_acc: 0.8538\n",
      "Epoch 16/20\n",
      "54000/54000 [==============================] - 6s 103us/step - loss: 0.5705 - acc: 0.7885 - val_loss: 0.4309 - val_acc: 0.8515\n",
      "Epoch 17/20\n",
      "54000/54000 [==============================] - 6s 103us/step - loss: 0.5668 - acc: 0.7903 - val_loss: 0.4336 - val_acc: 0.8443\n",
      "Epoch 18/20\n",
      "54000/54000 [==============================] - 6s 103us/step - loss: 0.5632 - acc: 0.7905 - val_loss: 0.4384 - val_acc: 0.8470\n",
      "Epoch 19/20\n",
      "54000/54000 [==============================] - 6s 104us/step - loss: 0.5607 - acc: 0.7901 - val_loss: 0.4264 - val_acc: 0.8493\n",
      "Epoch 20/20\n",
      "54000/54000 [==============================] - 6s 105us/step - loss: 0.5563 - acc: 0.7909 - val_loss: 0.4340 - val_acc: 0.8467\n",
      "10000/10000 [==============================] - 0s 48us/step\n",
      "acc: 84.31\n"
     ]
    }
   ],
   "source": [
    "history = model.fit(X_train, y_train, epochs=epochs, validation_split=.1)\n",
    "scores = model.evaluate(X_test, y_test)\n",
    "print(f'{model.metrics_names[1]}: {scores[1]*100}')"
   ]
  },
  {
   "cell_type": "code",
   "execution_count": 54,
   "metadata": {},
   "outputs": [
    {
     "data": {
      "image/png": "[encoded data removed]",
      "text/plain": [
       "<Figure size 432x288 with 1 Axes>"
      ]
     },
     "metadata": {
      "needs_background": "light"
     },
     "output_type": "display_data"
    }
   ],
   "source": [
    "import matplotlib.pyplot as plt\n",
    "training_loss = history.history['loss']\n",
    "#test_loss = history.history['val_loss']\n",
    "\n",
    "epoch_count = range(1, len(training_loss) +1)\n",
    "\n",
    "plt.plot(epoch_count, training_loss, 'r--')\n",
    "#plt.plot(epoch_count, test_loss, 'b-')\n",
    "plt.show()"
   ]
  },
  {
   "cell_type": "markdown",
   "metadata": {
    "colab_type": "text",
    "id": "zv_3xNMjzdLI"
   },
   "source": [
    "## Stretch Goals:\n",
    "\n",
    "- Use Hyperparameter Tuning to make the accuracy of your models as high as possible. (error as low as possible)\n",
    "- Use Cross Validation techniques to get more consistent results with your model.\n",
    "- Use GridSearchCV to try different combinations of hyperparameters. \n",
    "- Start looking into other types of Keras layers for CNNs and RNNs maybe try and build a CNN model for fashion-MNIST to see how the results compare."
   ]
  }
 ],
 "metadata": {
  "colab": {
   "name": "LS_DS_433_Keras_Assignment.ipynb",
   "provenance": [],
   "version": "0.3.2"
  },
  "kernelspec": {
   "display_name": "Python 3",
   "language": "python",
   "name": "python3"
  },
  "language_info": {
   "codemirror_mode": {
    "name": "ipython",
    "version": 3
   },
   "file_extension": ".py",
   "mimetype": "text/x-python",
   "name": "python",
   "nbconvert_exporter": "python",
   "pygments_lexer": "ipython3",
   "version": "3.6.7"
  }
 },
 "nbformat": 4,
 "nbformat_minor": 1
}
